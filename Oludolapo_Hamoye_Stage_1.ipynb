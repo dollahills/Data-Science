{
  "nbformat": 4,
  "nbformat_minor": 0,
  "metadata": {
    "colab": {
      "name": "Oludolapo_Hamoye_Stage_1.ipynb",
      "provenance": [],
      "collapsed_sections": []
    },
    "kernelspec": {
      "name": "python3",
      "display_name": "Python 3"
    }
  },
  "cells": [
    {
      "cell_type": "code",
      "metadata": {
        "id": "wODIezFupcA4",
        "colab_type": "code",
        "colab": {
          "base_uri": "https://localhost:8080/",
          "height": 58
        },
        "outputId": "ebd3e926-99e5-4c45-dfc4-52f644791436"
      },
      "source": [
        "%%html\n",
        "<!DOCTYPE html>\n",
        "<html>\n",
        "  <head>\n",
        "    <title>Title of the document</title>\n",
        "    <style>\n",
        "      marquee{\n",
        "      font-size: 30px;\n",
        "      font-weight: 800;\n",
        "      color: red;\n",
        "      font-family: sans-serif;\n",
        "      }\n",
        "    </style>\n",
        "  </head>\n",
        "  <body>\n",
        "    <marquee>HAMOYE DATA SCIENCE INTERNSHIP 2020</marquee>\n",
        "  </body>\n",
        "</html>"
      ],
      "execution_count": 64,
      "outputs": [
        {
          "output_type": "display_data",
          "data": {
            "text/html": [
              "<!DOCTYPE html>\n",
              "<html>\n",
              "  <head>\n",
              "    <title>Title of the document</title>\n",
              "    <style>\n",
              "      marquee{\n",
              "      font-size: 30px;\n",
              "      font-weight: 800;\n",
              "      color: red;\n",
              "      font-family: sans-serif;\n",
              "      }\n",
              "    </style>\n",
              "  </head>\n",
              "  <body>\n",
              "    <marquee>HAMOYE DATA SCIENCE INTERNSHIP 2020</marquee>\n",
              "  </body>\n",
              "</html>"
            ],
            "text/plain": [
              "<IPython.core.display.HTML object>"
            ]
          },
          "metadata": {
            "tags": []
          }
        }
      ]
    },
    {
      "cell_type": "code",
      "metadata": {
        "id": "KBVsBCa1qF98",
        "colab_type": "code",
        "colab": {
          "base_uri": "https://localhost:8080/",
          "height": 269
        },
        "outputId": "8dff453f-0003-44bf-8420-67241ee04f61"
      },
      "source": [
        "%%html\n",
        "\n",
        "<marquee>Oludolapo Ibrahim Olanrewaju ()</marquee>\n",
        "\n",
        "<marquee direction=\"down\">Introduction to Python</marquee>\n",
        "\n",
        "<marquee direction=\"down\" width=\"500\" height=\"200\" behavior=\"alternate\" style=\"border:solid\">\n",
        "  <marquee behavior=\"alternate\">\n",
        "    Oludolapo Ibrahim Olanrewaju\n",
        "  </marquee>\n",
        "</marquee>"
      ],
      "execution_count": 65,
      "outputs": [
        {
          "output_type": "display_data",
          "data": {
            "text/html": [
              "\n",
              "<marquee>Oludolapo Ibrahim Olanrewaju</marquee>\n",
              "\n",
              "<marquee direction=\"down\">Introduction to Python</marquee>\n",
              "\n",
              "<marquee direction=\"down\" width=\"500\" height=\"200\" behavior=\"alternate\" style=\"border:solid\">\n",
              "  <marquee behavior=\"alternate\">\n",
              "    Oludolapo Ibrahim Olanrewaju\n",
              "  </marquee>\n",
              "</marquee>"
            ],
            "text/plain": [
              "<IPython.core.display.HTML object>"
            ]
          },
          "metadata": {
            "tags": []
          }
        }
      ]
    },
    {
      "cell_type": "markdown",
      "metadata": {
        "id": "Mtf8elaWbynQ",
        "colab_type": "text"
      },
      "source": [
        "# Import Python Libraries"
      ]
    },
    {
      "cell_type": "code",
      "metadata": {
        "id": "uZWrC-YVb-OA",
        "colab_type": "code",
        "colab": {}
      },
      "source": [
        "import pandas as pd\n",
        "import matplotlib.pyplot as plt\n",
        "import numpy as np\n",
        "import seaborn as sns"
      ],
      "execution_count": 10,
      "outputs": []
    },
    {
      "cell_type": "markdown",
      "metadata": {
        "id": "ec2529QmcfzD",
        "colab_type": "text"
      },
      "source": [
        "# Get Data from Source"
      ]
    },
    {
      "cell_type": "code",
      "metadata": {
        "id": "g6ebkrK8vq2V",
        "colab_type": "code",
        "colab": {}
      },
      "source": [
        "data_url = 'https://raw.githubusercontent.com/WalePhenomenon/climate_change/master/fuel_ferc1.csv'\n",
        "\n",
        "electric_utility_data = pd.read_csv(data_url, error_bad_lines=False)\n"
      ],
      "execution_count": 14,
      "outputs": []
    },
    {
      "cell_type": "code",
      "metadata": {
        "id": "rljIkXahwTCc",
        "colab_type": "code",
        "colab": {
          "base_uri": "https://localhost:8080/",
          "height": 456
        },
        "outputId": "6be42f57-d34b-42e3-e377-3763a76110bf"
      },
      "source": [
        "electric_utility_data"
      ],
      "execution_count": 13,
      "outputs": [
        {
          "output_type": "execute_result",
          "data": {
            "text/html": [
              "<div>\n",
              "<style scoped>\n",
              "    .dataframe tbody tr th:only-of-type {\n",
              "        vertical-align: middle;\n",
              "    }\n",
              "\n",
              "    .dataframe tbody tr th {\n",
              "        vertical-align: top;\n",
              "    }\n",
              "\n",
              "    .dataframe thead th {\n",
              "        text-align: right;\n",
              "    }\n",
              "</style>\n",
              "<table border=\"1\" class=\"dataframe\">\n",
              "  <thead>\n",
              "    <tr style=\"text-align: right;\">\n",
              "      <th></th>\n",
              "      <th>record_id</th>\n",
              "      <th>utility_id_ferc1</th>\n",
              "      <th>report_year</th>\n",
              "      <th>plant_name_ferc1</th>\n",
              "      <th>fuel_type_code_pudl</th>\n",
              "      <th>fuel_unit</th>\n",
              "      <th>fuel_qty_burned</th>\n",
              "      <th>fuel_mmbtu_per_unit</th>\n",
              "      <th>fuel_cost_per_unit_burned</th>\n",
              "      <th>fuel_cost_per_unit_delivered</th>\n",
              "      <th>fuel_cost_per_mmbtu</th>\n",
              "    </tr>\n",
              "  </thead>\n",
              "  <tbody>\n",
              "    <tr>\n",
              "      <th>0</th>\n",
              "      <td>f1_fuel_1994_12_1_0_7</td>\n",
              "      <td>1</td>\n",
              "      <td>1994</td>\n",
              "      <td>rockport</td>\n",
              "      <td>coal</td>\n",
              "      <td>ton</td>\n",
              "      <td>5377489.0</td>\n",
              "      <td>16.590</td>\n",
              "      <td>18.59</td>\n",
              "      <td>18.53</td>\n",
              "      <td>1.121</td>\n",
              "    </tr>\n",
              "    <tr>\n",
              "      <th>1</th>\n",
              "      <td>f1_fuel_1994_12_1_0_10</td>\n",
              "      <td>1</td>\n",
              "      <td>1994</td>\n",
              "      <td>rockport total plant</td>\n",
              "      <td>coal</td>\n",
              "      <td>ton</td>\n",
              "      <td>10486945.0</td>\n",
              "      <td>16.592</td>\n",
              "      <td>18.58</td>\n",
              "      <td>18.53</td>\n",
              "      <td>1.120</td>\n",
              "    </tr>\n",
              "    <tr>\n",
              "      <th>2</th>\n",
              "      <td>f1_fuel_1994_12_2_0_1</td>\n",
              "      <td>2</td>\n",
              "      <td>1994</td>\n",
              "      <td>gorgas</td>\n",
              "      <td>coal</td>\n",
              "      <td>ton</td>\n",
              "      <td>2978683.0</td>\n",
              "      <td>24.130</td>\n",
              "      <td>39.72</td>\n",
              "      <td>38.12</td>\n",
              "      <td>1.650</td>\n",
              "    </tr>\n",
              "    <tr>\n",
              "      <th>3</th>\n",
              "      <td>f1_fuel_1994_12_2_0_7</td>\n",
              "      <td>2</td>\n",
              "      <td>1994</td>\n",
              "      <td>barry</td>\n",
              "      <td>coal</td>\n",
              "      <td>ton</td>\n",
              "      <td>3739484.0</td>\n",
              "      <td>23.950</td>\n",
              "      <td>47.21</td>\n",
              "      <td>45.99</td>\n",
              "      <td>1.970</td>\n",
              "    </tr>\n",
              "    <tr>\n",
              "      <th>4</th>\n",
              "      <td>f1_fuel_1994_12_2_0_10</td>\n",
              "      <td>2</td>\n",
              "      <td>1994</td>\n",
              "      <td>chickasaw</td>\n",
              "      <td>gas</td>\n",
              "      <td>mcf</td>\n",
              "      <td>40533.0</td>\n",
              "      <td>1.000</td>\n",
              "      <td>2.77</td>\n",
              "      <td>2.77</td>\n",
              "      <td>2.570</td>\n",
              "    </tr>\n",
              "    <tr>\n",
              "      <th>...</th>\n",
              "      <td>...</td>\n",
              "      <td>...</td>\n",
              "      <td>...</td>\n",
              "      <td>...</td>\n",
              "      <td>...</td>\n",
              "      <td>...</td>\n",
              "      <td>...</td>\n",
              "      <td>...</td>\n",
              "      <td>...</td>\n",
              "      <td>...</td>\n",
              "      <td>...</td>\n",
              "    </tr>\n",
              "    <tr>\n",
              "      <th>29518</th>\n",
              "      <td>f1_fuel_2018_12_12_0_13</td>\n",
              "      <td>12</td>\n",
              "      <td>2018</td>\n",
              "      <td>neil simpson ct #1</td>\n",
              "      <td>gas</td>\n",
              "      <td>mcf</td>\n",
              "      <td>18799.0</td>\n",
              "      <td>1.059</td>\n",
              "      <td>4.78</td>\n",
              "      <td>4.78</td>\n",
              "      <td>9.030</td>\n",
              "    </tr>\n",
              "    <tr>\n",
              "      <th>29519</th>\n",
              "      <td>f1_fuel_2018_12_12_1_1</td>\n",
              "      <td>12</td>\n",
              "      <td>2018</td>\n",
              "      <td>cheyenne prairie 58%</td>\n",
              "      <td>gas</td>\n",
              "      <td>mcf</td>\n",
              "      <td>806730.0</td>\n",
              "      <td>1.050</td>\n",
              "      <td>3.65</td>\n",
              "      <td>3.65</td>\n",
              "      <td>6.950</td>\n",
              "    </tr>\n",
              "    <tr>\n",
              "      <th>29520</th>\n",
              "      <td>f1_fuel_2018_12_12_1_10</td>\n",
              "      <td>12</td>\n",
              "      <td>2018</td>\n",
              "      <td>lange ct facility</td>\n",
              "      <td>gas</td>\n",
              "      <td>mcf</td>\n",
              "      <td>104554.0</td>\n",
              "      <td>1.060</td>\n",
              "      <td>4.77</td>\n",
              "      <td>4.77</td>\n",
              "      <td>8.990</td>\n",
              "    </tr>\n",
              "    <tr>\n",
              "      <th>29521</th>\n",
              "      <td>f1_fuel_2018_12_12_1_13</td>\n",
              "      <td>12</td>\n",
              "      <td>2018</td>\n",
              "      <td>wygen 3 bhp 52%</td>\n",
              "      <td>coal</td>\n",
              "      <td>ton</td>\n",
              "      <td>315945.0</td>\n",
              "      <td>16.108</td>\n",
              "      <td>3.06</td>\n",
              "      <td>14.76</td>\n",
              "      <td>1.110</td>\n",
              "    </tr>\n",
              "    <tr>\n",
              "      <th>29522</th>\n",
              "      <td>f1_fuel_2018_12_12_1_14</td>\n",
              "      <td>12</td>\n",
              "      <td>2018</td>\n",
              "      <td>wygen 3 bhp 52%</td>\n",
              "      <td>gas</td>\n",
              "      <td>mcf</td>\n",
              "      <td>17853.0</td>\n",
              "      <td>1.059</td>\n",
              "      <td>0.00</td>\n",
              "      <td>0.00</td>\n",
              "      <td>11.680</td>\n",
              "    </tr>\n",
              "  </tbody>\n",
              "</table>\n",
              "<p>29523 rows × 11 columns</p>\n",
              "</div>"
            ],
            "text/plain": [
              "                     record_id  ...  fuel_cost_per_mmbtu\n",
              "0        f1_fuel_1994_12_1_0_7  ...                1.121\n",
              "1       f1_fuel_1994_12_1_0_10  ...                1.120\n",
              "2        f1_fuel_1994_12_2_0_1  ...                1.650\n",
              "3        f1_fuel_1994_12_2_0_7  ...                1.970\n",
              "4       f1_fuel_1994_12_2_0_10  ...                2.570\n",
              "...                        ...  ...                  ...\n",
              "29518  f1_fuel_2018_12_12_0_13  ...                9.030\n",
              "29519   f1_fuel_2018_12_12_1_1  ...                6.950\n",
              "29520  f1_fuel_2018_12_12_1_10  ...                8.990\n",
              "29521  f1_fuel_2018_12_12_1_13  ...                1.110\n",
              "29522  f1_fuel_2018_12_12_1_14  ...               11.680\n",
              "\n",
              "[29523 rows x 11 columns]"
            ]
          },
          "metadata": {
            "tags": []
          },
          "execution_count": 13
        }
      ]
    },
    {
      "cell_type": "markdown",
      "metadata": {
        "id": "RKLYVUPhduSG",
        "colab_type": "text"
      },
      "source": [
        " # Summarize the Entire Data"
      ]
    },
    {
      "cell_type": "code",
      "metadata": {
        "id": "qNrIsKTXwjRT",
        "colab_type": "code",
        "colab": {
          "base_uri": "https://localhost:8080/",
          "height": 317
        },
        "outputId": "82f259a3-cbfc-48c0-8a7b-d846ddd2c1d5"
      },
      "source": [
        "electric_utility_data.describe()"
      ],
      "execution_count": null,
      "outputs": [
        {
          "output_type": "execute_result",
          "data": {
            "text/html": [
              "<div>\n",
              "<style scoped>\n",
              "    .dataframe tbody tr th:only-of-type {\n",
              "        vertical-align: middle;\n",
              "    }\n",
              "\n",
              "    .dataframe tbody tr th {\n",
              "        vertical-align: top;\n",
              "    }\n",
              "\n",
              "    .dataframe thead th {\n",
              "        text-align: right;\n",
              "    }\n",
              "</style>\n",
              "<table border=\"1\" class=\"dataframe\">\n",
              "  <thead>\n",
              "    <tr style=\"text-align: right;\">\n",
              "      <th></th>\n",
              "      <th>utility_id_ferc1</th>\n",
              "      <th>report_year</th>\n",
              "      <th>fuel_qty_burned</th>\n",
              "      <th>fuel_mmbtu_per_unit</th>\n",
              "      <th>fuel_cost_per_unit_burned</th>\n",
              "      <th>fuel_cost_per_unit_delivered</th>\n",
              "      <th>fuel_cost_per_mmbtu</th>\n",
              "    </tr>\n",
              "  </thead>\n",
              "  <tbody>\n",
              "    <tr>\n",
              "      <th>count</th>\n",
              "      <td>29523.000000</td>\n",
              "      <td>29523.000000</td>\n",
              "      <td>2.952300e+04</td>\n",
              "      <td>29523.000000</td>\n",
              "      <td>29523.000000</td>\n",
              "      <td>2.952300e+04</td>\n",
              "      <td>29523.000000</td>\n",
              "    </tr>\n",
              "    <tr>\n",
              "      <th>mean</th>\n",
              "      <td>118.601836</td>\n",
              "      <td>2005.806050</td>\n",
              "      <td>2.622119e+06</td>\n",
              "      <td>8.492111</td>\n",
              "      <td>208.649031</td>\n",
              "      <td>9.175704e+02</td>\n",
              "      <td>19.304354</td>\n",
              "    </tr>\n",
              "    <tr>\n",
              "      <th>std</th>\n",
              "      <td>74.178353</td>\n",
              "      <td>7.025483</td>\n",
              "      <td>9.118004e+06</td>\n",
              "      <td>10.600220</td>\n",
              "      <td>2854.490090</td>\n",
              "      <td>6.877593e+04</td>\n",
              "      <td>2091.540939</td>\n",
              "    </tr>\n",
              "    <tr>\n",
              "      <th>min</th>\n",
              "      <td>1.000000</td>\n",
              "      <td>1994.000000</td>\n",
              "      <td>1.000000e+00</td>\n",
              "      <td>0.000001</td>\n",
              "      <td>-276.080000</td>\n",
              "      <td>-8.749370e+02</td>\n",
              "      <td>-41.501000</td>\n",
              "    </tr>\n",
              "    <tr>\n",
              "      <th>25%</th>\n",
              "      <td>55.000000</td>\n",
              "      <td>2000.000000</td>\n",
              "      <td>1.381700e+04</td>\n",
              "      <td>1.024000</td>\n",
              "      <td>5.207000</td>\n",
              "      <td>3.778500e+00</td>\n",
              "      <td>1.940000</td>\n",
              "    </tr>\n",
              "    <tr>\n",
              "      <th>50%</th>\n",
              "      <td>122.000000</td>\n",
              "      <td>2006.000000</td>\n",
              "      <td>2.533220e+05</td>\n",
              "      <td>5.762694</td>\n",
              "      <td>26.000000</td>\n",
              "      <td>1.737100e+01</td>\n",
              "      <td>4.127000</td>\n",
              "    </tr>\n",
              "    <tr>\n",
              "      <th>75%</th>\n",
              "      <td>176.000000</td>\n",
              "      <td>2012.000000</td>\n",
              "      <td>1.424034e+06</td>\n",
              "      <td>17.006000</td>\n",
              "      <td>47.113000</td>\n",
              "      <td>4.213700e+01</td>\n",
              "      <td>7.745000</td>\n",
              "    </tr>\n",
              "    <tr>\n",
              "      <th>max</th>\n",
              "      <td>514.000000</td>\n",
              "      <td>2018.000000</td>\n",
              "      <td>5.558942e+08</td>\n",
              "      <td>341.260000</td>\n",
              "      <td>139358.000000</td>\n",
              "      <td>7.964521e+06</td>\n",
              "      <td>359278.000000</td>\n",
              "    </tr>\n",
              "  </tbody>\n",
              "</table>\n",
              "</div>"
            ],
            "text/plain": [
              "       utility_id_ferc1  ...  fuel_cost_per_mmbtu\n",
              "count      29523.000000  ...         29523.000000\n",
              "mean         118.601836  ...            19.304354\n",
              "std           74.178353  ...          2091.540939\n",
              "min            1.000000  ...           -41.501000\n",
              "25%           55.000000  ...             1.940000\n",
              "50%          122.000000  ...             4.127000\n",
              "75%          176.000000  ...             7.745000\n",
              "max          514.000000  ...        359278.000000\n",
              "\n",
              "[8 rows x 7 columns]"
            ]
          },
          "metadata": {
            "tags": []
          },
          "execution_count": 6
        }
      ]
    },
    {
      "cell_type": "markdown",
      "metadata": {
        "id": "j-EjoETaeAiZ",
        "colab_type": "text"
      },
      "source": [
        "# Check for Missing Values"
      ]
    },
    {
      "cell_type": "code",
      "metadata": {
        "id": "Lj0ZWhjxwl4d",
        "colab_type": "code",
        "colab": {
          "base_uri": "https://localhost:8080/",
          "height": 221
        },
        "outputId": "b5fcbf30-b15a-4d0c-db59-f51071725314"
      },
      "source": [
        "missing_values = electric_utility_data.isnull().sum()\n",
        "missing_values"
      ],
      "execution_count": 17,
      "outputs": [
        {
          "output_type": "execute_result",
          "data": {
            "text/plain": [
              "record_id                         0\n",
              "utility_id_ferc1                  0\n",
              "report_year                       0\n",
              "plant_name_ferc1                  0\n",
              "fuel_type_code_pudl               0\n",
              "fuel_unit                       180\n",
              "fuel_qty_burned                   0\n",
              "fuel_mmbtu_per_unit               0\n",
              "fuel_cost_per_unit_burned         0\n",
              "fuel_cost_per_unit_delivered      0\n",
              "fuel_cost_per_mmbtu               0\n",
              "dtype: int64"
            ]
          },
          "metadata": {
            "tags": []
          },
          "execution_count": 17
        }
      ]
    },
    {
      "cell_type": "markdown",
      "metadata": {
        "id": "ANLTK-dOo-lQ",
        "colab_type": "text"
      },
      "source": [
        "# Obtain Details of Features"
      ]
    },
    {
      "cell_type": "code",
      "metadata": {
        "id": "07Bm2XkuwxFs",
        "colab_type": "code",
        "colab": {
          "base_uri": "https://localhost:8080/",
          "height": 323
        },
        "outputId": "80eb927b-c5c5-4442-844a-52d268da662e"
      },
      "source": [
        "electric_utility_data.info()"
      ],
      "execution_count": null,
      "outputs": [
        {
          "output_type": "stream",
          "text": [
            "<class 'pandas.core.frame.DataFrame'>\n",
            "RangeIndex: 29523 entries, 0 to 29522\n",
            "Data columns (total 11 columns):\n",
            " #   Column                        Non-Null Count  Dtype  \n",
            "---  ------                        --------------  -----  \n",
            " 0   record_id                     29523 non-null  object \n",
            " 1   utility_id_ferc1              29523 non-null  int64  \n",
            " 2   report_year                   29523 non-null  int64  \n",
            " 3   plant_name_ferc1              29523 non-null  object \n",
            " 4   fuel_type_code_pudl           29523 non-null  object \n",
            " 5   fuel_unit                     29343 non-null  object \n",
            " 6   fuel_qty_burned               29523 non-null  float64\n",
            " 7   fuel_mmbtu_per_unit           29523 non-null  float64\n",
            " 8   fuel_cost_per_unit_burned     29523 non-null  float64\n",
            " 9   fuel_cost_per_unit_delivered  29523 non-null  float64\n",
            " 10  fuel_cost_per_mmbtu           29523 non-null  float64\n",
            "dtypes: float64(5), int64(2), object(4)\n",
            "memory usage: 2.5+ MB\n"
          ],
          "name": "stdout"
        }
      ]
    },
    {
      "cell_type": "code",
      "metadata": {
        "id": "BtdRabSBw2-r",
        "colab_type": "code",
        "colab": {
          "base_uri": "https://localhost:8080/",
          "height": 34
        },
        "outputId": "6b3eb565-638c-47c6-e966-5df96cacb805"
      },
      "source": [
        "electric_utility_data['fuel_unit'].value_counts().values"
      ],
      "execution_count": 18,
      "outputs": [
        {
          "output_type": "execute_result",
          "data": {
            "text/plain": [
              "array([11354,  8958,  7998,   464,   180,   110,   100,    95,    84])"
            ]
          },
          "metadata": {
            "tags": []
          },
          "execution_count": 18
        }
      ]
    },
    {
      "cell_type": "markdown",
      "metadata": {
        "id": "u6dOqwGooins",
        "colab_type": "text"
      },
      "source": [
        "# Visualization with Bar Chart, KDE plot, Box plot and Regplot"
      ]
    },
    {
      "cell_type": "code",
      "metadata": {
        "id": "fbH5LtJCw-7r",
        "colab_type": "code",
        "colab": {
          "base_uri": "https://localhost:8080/",
          "height": 361
        },
        "outputId": "66c7c36a-ccd6-4ac5-db67-fd8e41da7359"
      },
      "source": [
        "#Format figure\n",
        "plt.figure(figsize = (9,5))\n",
        "plt.xticks(rotation = 45)\n",
        "\n",
        "barchart_visualization = sns.barplot(x=electric_utility_data['fuel_unit'].value_counts().index, y=electric_utility_data['fuel_unit'].value_counts().values)\n",
        "barchart_visualization.set_yscale(\"log\")\n",
        "barchart_visualization.set_ylim(1, 16000)\n",
        "\n",
        "\n",
        "\n"
      ],
      "execution_count": 55,
      "outputs": [
        {
          "output_type": "execute_result",
          "data": {
            "text/plain": [
              "(1, 16000)"
            ]
          },
          "metadata": {
            "tags": []
          },
          "execution_count": 55
        },
        {
          "output_type": "display_data",
          "data": {
            "image/png": "[encoded data removed]",
            "text/plain": [
              "<Figure size 648x360 with 1 Axes>"
            ]
          },
          "metadata": {
            "tags": [],
            "needs_background": "light"
          }
        }
      ]
    },
    {
      "cell_type": "code",
      "metadata": {
        "id": "orzvzeSQxBab",
        "colab_type": "code",
        "colab": {}
      },
      "source": [
        "new_df = pd.pivot_table(electric_utility_data, index=\"fuel_type_code_pudl\", values=\"fuel_cost_per_unit_burned\", aggfunc='mean')"
      ],
      "execution_count": null,
      "outputs": []
    },
    {
      "cell_type": "code",
      "metadata": {
        "id": "tPGcshslxJPk",
        "colab_type": "code",
        "colab": {
          "base_uri": "https://localhost:8080/",
          "height": 266
        },
        "outputId": "08702513-9a41-4599-caae-53a4247c73d2"
      },
      "source": [
        "new_df"
      ],
      "execution_count": null,
      "outputs": [
        {
          "output_type": "execute_result",
          "data": {
            "text/html": [
              "<div>\n",
              "<style scoped>\n",
              "    .dataframe tbody tr th:only-of-type {\n",
              "        vertical-align: middle;\n",
              "    }\n",
              "\n",
              "    .dataframe tbody tr th {\n",
              "        vertical-align: top;\n",
              "    }\n",
              "\n",
              "    .dataframe thead th {\n",
              "        text-align: right;\n",
              "    }\n",
              "</style>\n",
              "<table border=\"1\" class=\"dataframe\">\n",
              "  <thead>\n",
              "    <tr style=\"text-align: right;\">\n",
              "      <th></th>\n",
              "      <th>fuel_cost_per_unit_burned</th>\n",
              "    </tr>\n",
              "    <tr>\n",
              "      <th>fuel_type_code_pudl</th>\n",
              "      <th></th>\n",
              "    </tr>\n",
              "  </thead>\n",
              "  <tbody>\n",
              "    <tr>\n",
              "      <th>coal</th>\n",
              "      <td>67.421830</td>\n",
              "    </tr>\n",
              "    <tr>\n",
              "      <th>gas</th>\n",
              "      <td>13.659397</td>\n",
              "    </tr>\n",
              "    <tr>\n",
              "      <th>nuclear</th>\n",
              "      <td>4955.157002</td>\n",
              "    </tr>\n",
              "    <tr>\n",
              "      <th>oil</th>\n",
              "      <td>168.877086</td>\n",
              "    </tr>\n",
              "    <tr>\n",
              "      <th>other</th>\n",
              "      <td>18.253856</td>\n",
              "    </tr>\n",
              "    <tr>\n",
              "      <th>waste</th>\n",
              "      <td>19.518122</td>\n",
              "    </tr>\n",
              "  </tbody>\n",
              "</table>\n",
              "</div>"
            ],
            "text/plain": [
              "                     fuel_cost_per_unit_burned\n",
              "fuel_type_code_pudl                           \n",
              "coal                                 67.421830\n",
              "gas                                  13.659397\n",
              "nuclear                            4955.157002\n",
              "oil                                 168.877086\n",
              "other                                18.253856\n",
              "waste                                19.518122"
            ]
          },
          "metadata": {
            "tags": []
          },
          "execution_count": 14
        }
      ]
    },
    {
      "cell_type": "code",
      "metadata": {
        "id": "imC-3cCxxQKV",
        "colab_type": "code",
        "colab": {
          "base_uri": "https://localhost:8080/",
          "height": 306
        },
        "outputId": "48b7da1c-88ee-49c4-c253-33b47fb103a0"
      },
      "source": [
        "sns.kdeplot(data=electric_utility_data['fuel_qty_burned'], shade=True, color='green')"
      ],
      "execution_count": 61,
      "outputs": [
        {
          "output_type": "execute_result",
          "data": {
            "text/plain": [
              "<matplotlib.axes._subplots.AxesSubplot at 0x7f11afdfec18>"
            ]
          },
          "metadata": {
            "tags": []
          },
          "execution_count": 61
        },
        {
          "output_type": "display_data",
          "data": {
            "image/png": "[encoded data removed]",
            "text/plain": [
              "<Figure size 432x288 with 1 Axes>"
            ]
          },
          "metadata": {
            "tags": [],
            "needs_background": "light"
          }
        }
      ]
    },
    {
      "cell_type": "code",
      "metadata": {
        "id": "BY8bs8qNn7n0",
        "colab_type": "code",
        "colab": {
          "base_uri": "https://localhost:8080/",
          "height": 375
        },
        "outputId": "ffbbfc2a-3909-4b1b-a5f0-2be1a4a6be4a"
      },
      "source": [
        "#Format figure\n",
        "plt.figure(figsize = (9,5))\n",
        "plt.xticks(rotation = 45)\n",
        "\n",
        "sns.boxplot(x=\"fuel_type_code_pudl\", y=\"utility_id_ferc1\", palette=[\"r\", \"b\"], data=electric_utility_data)\n"
      ],
      "execution_count": 60,
      "outputs": [
        {
          "output_type": "execute_result",
          "data": {
            "text/plain": [
              "<matplotlib.axes._subplots.AxesSubplot at 0x7f11b018df98>"
            ]
          },
          "metadata": {
            "tags": []
          },
          "execution_count": 60
        },
        {
          "output_type": "display_data",
          "data": {
            "image/png": "[encoded data removed]",
            "text/plain": [
              "<Figure size 648x360 with 1 Axes>"
            ]
          },
          "metadata": {
            "tags": [],
            "needs_background": "light"
          }
        }
      ]
    },
    {
      "cell_type": "code",
      "metadata": {
        "id": "PutKatMyq1VH",
        "colab_type": "code",
        "colab": {
          "base_uri": "https://localhost:8080/",
          "height": 362
        },
        "outputId": "3fb654e3-a0dc-465c-908e-34d343bb4d9b"
      },
      "source": [
        "#Format figure\n",
        "plt.figure(figsize = (9,5))\n",
        "plt.xticks(rotation = 45)\n",
        "\n",
        "# Select a sample of the dataset\n",
        "dfx = electric_utility_data.sample(n=100, random_state=4)\n",
        "sns.regplot(x=dfx[\"utility_id_ferc1\"], y=dfx[\"fuel_cost_per_mmbtu\"], fit_reg=True)\n"
      ],
      "execution_count": 69,
      "outputs": [
        {
          "output_type": "execute_result",
          "data": {
            "text/plain": [
              "<matplotlib.axes._subplots.AxesSubplot at 0x7f11b04f7828>"
            ]
          },
          "metadata": {
            "tags": []
          },
          "execution_count": 69
        },
        {
          "output_type": "display_data",
          "data": {
            "image/png": "[encoded data removed]",
            "text/plain": [
              "<Figure size 648x360 with 1 Axes>"
            ]
          },
          "metadata": {
            "tags": [],
            "needs_background": "light"
          }
        }
      ]
    },
    {
      "cell_type": "markdown",
      "metadata": {
        "id": "licTe6UtmlyF",
        "colab_type": "text"
      },
      "source": [
        "# Skewness"
      ]
    },
    {
      "cell_type": "code",
      "metadata": {
        "id": "lm5_jOzrxU6b",
        "colab_type": "code",
        "colab": {
          "base_uri": "https://localhost:8080/",
          "height": 153
        },
        "outputId": "2cb366a4-a508-4c00-b776-121361e42405"
      },
      "source": [
        "skewness = electric_utility_data.skew()\n",
        "skewness"
      ],
      "execution_count": null,
      "outputs": [
        {
          "output_type": "execute_result",
          "data": {
            "text/plain": [
              "utility_id_ferc1                  0.605070\n",
              "report_year                       0.006953\n",
              "fuel_qty_burned                  15.851495\n",
              "fuel_mmbtu_per_unit               4.135217\n",
              "fuel_cost_per_unit_burned        19.787440\n",
              "fuel_cost_per_unit_delivered    105.014227\n",
              "fuel_cost_per_mmbtu             171.675535\n",
              "dtype: float64"
            ]
          },
          "metadata": {
            "tags": []
          },
          "execution_count": 16
        }
      ]
    },
    {
      "cell_type": "markdown",
      "metadata": {
        "id": "yzRysy8GmhBH",
        "colab_type": "text"
      },
      "source": [
        "# Kurtosis"
      ]
    },
    {
      "cell_type": "code",
      "metadata": {
        "id": "V2IR44h0xbKF",
        "colab_type": "code",
        "colab": {
          "base_uri": "https://localhost:8080/",
          "height": 153
        },
        "outputId": "4e35cc33-7e60-4277-d710-f7349b922aeb"
      },
      "source": [
        "kurtosis = electric_utility_data.kurtosis()\n",
        "kurtosis"
      ],
      "execution_count": null,
      "outputs": [
        {
          "output_type": "execute_result",
          "data": {
            "text/plain": [
              "utility_id_ferc1                    1.088432\n",
              "report_year                        -1.145656\n",
              "fuel_qty_burned                   651.369450\n",
              "fuel_mmbtu_per_unit                55.595695\n",
              "fuel_cost_per_unit_burned         485.255851\n",
              "fuel_cost_per_unit_delivered    11765.054226\n",
              "fuel_cost_per_mmbtu             29489.132594\n",
              "dtype: float64"
            ]
          },
          "metadata": {
            "tags": []
          },
          "execution_count": 17
        }
      ]
    },
    {
      "cell_type": "markdown",
      "metadata": {
        "id": "zvcJZO8dmJxP",
        "colab_type": "text"
      },
      "source": [
        "# Percentage of Missing Values"
      ]
    },
    {
      "cell_type": "code",
      "metadata": {
        "id": "CYdx49wNxhur",
        "colab_type": "code",
        "colab": {
          "base_uri": "https://localhost:8080/",
          "height": 221
        },
        "outputId": "13f9ddfc-3eda-4ff1-aa63-bb454711179f"
      },
      "source": [
        "missing_data_percentage = missing_values/len(electric_utility_data) * 100\n",
        "missing_data_percentage"
      ],
      "execution_count": 38,
      "outputs": [
        {
          "output_type": "execute_result",
          "data": {
            "text/plain": [
              "record_id                       0.000000\n",
              "utility_id_ferc1                0.000000\n",
              "report_year                     0.000000\n",
              "plant_name_ferc1                0.000000\n",
              "fuel_type_code_pudl             0.000000\n",
              "fuel_unit                       0.609694\n",
              "fuel_qty_burned                 0.000000\n",
              "fuel_mmbtu_per_unit             0.000000\n",
              "fuel_cost_per_unit_burned       0.000000\n",
              "fuel_cost_per_unit_delivered    0.000000\n",
              "fuel_cost_per_mmbtu             0.000000\n",
              "dtype: float64"
            ]
          },
          "metadata": {
            "tags": []
          },
          "execution_count": 38
        }
      ]
    },
    {
      "cell_type": "markdown",
      "metadata": {
        "id": "pD-aD4OAmRN_",
        "colab_type": "text"
      },
      "source": [
        "# Correlation and Visualization with Heatmap"
      ]
    },
    {
      "cell_type": "code",
      "metadata": {
        "id": "NqQVHN_HxkS0",
        "colab_type": "code",
        "colab": {
          "base_uri": "https://localhost:8080/",
          "height": 153
        },
        "outputId": "ac22ea9f-fc53-43a1-a699-ce41137c1e94"
      },
      "source": [
        "correlation = electric_utility_data.corr()\n",
        "correlation['fuel_cost_per_unit_burned'].sort_values()"
      ],
      "execution_count": null,
      "outputs": [
        {
          "output_type": "execute_result",
          "data": {
            "text/plain": [
              "utility_id_ferc1               -0.037863\n",
              "fuel_qty_burned                -0.018535\n",
              "fuel_mmbtu_per_unit            -0.010034\n",
              "fuel_cost_per_mmbtu            -0.000437\n",
              "fuel_cost_per_unit_delivered    0.011007\n",
              "report_year                     0.013599\n",
              "fuel_cost_per_unit_burned       1.000000\n",
              "Name: fuel_cost_per_unit_burned, dtype: float64"
            ]
          },
          "metadata": {
            "tags": []
          },
          "execution_count": 19
        }
      ]
    },
    {
      "cell_type": "code",
      "metadata": {
        "id": "8V1dQUTAxtXU",
        "colab_type": "code",
        "colab": {
          "base_uri": "https://localhost:8080/",
          "height": 419
        },
        "outputId": "3e3a0b60-ed9c-4729-b2af-a4d70afe984a"
      },
      "source": [
        "sns.heatmap(correlation)"
      ],
      "execution_count": null,
      "outputs": [
        {
          "output_type": "execute_result",
          "data": {
            "text/plain": [
              "<matplotlib.axes._subplots.AxesSubplot at 0x7f6885f76080>"
            ]
          },
          "metadata": {
            "tags": []
          },
          "execution_count": 20
        },
        {
          "output_type": "display_data",
          "data": {
            "image/png": "[encoded data removed]",
            "text/plain": [
              "<Figure size 432x288 with 2 Axes>"
            ]
          },
          "metadata": {
            "tags": [],
            "needs_background": "light"
          }
        }
      ]
    },
    {
      "cell_type": "markdown",
      "metadata": {
        "id": "kxj-WCSlibYW",
        "colab_type": "text"
      },
      "source": [
        "# Percentage Change in Coal Burned Between 1994 and 1998"
      ]
    },
    {
      "cell_type": "code",
      "metadata": {
        "id": "BR-KqWygxwlW",
        "colab_type": "code",
        "colab": {
          "base_uri": "https://localhost:8080/",
          "height": 286
        },
        "outputId": "6d80e1fc-ce5f-4937-a605-8b33315818b7"
      },
      "source": [
        "coal_data = pd.pivot_table(electric_utility_data, index=\"fuel_type_code_pudl\", columns=\"report_year\", values=\"fuel_cost_per_unit_burned\", aggfunc='sum')\n",
        "coal_data"
      ],
      "execution_count": 31,
      "outputs": [
        {
          "output_type": "execute_result",
          "data": {
            "text/html": [
              "<div>\n",
              "<style scoped>\n",
              "    .dataframe tbody tr th:only-of-type {\n",
              "        vertical-align: middle;\n",
              "    }\n",
              "\n",
              "    .dataframe tbody tr th {\n",
              "        vertical-align: top;\n",
              "    }\n",
              "\n",
              "    .dataframe thead th {\n",
              "        text-align: right;\n",
              "    }\n",
              "</style>\n",
              "<table border=\"1\" class=\"dataframe\">\n",
              "  <thead>\n",
              "    <tr style=\"text-align: right;\">\n",
              "      <th>report_year</th>\n",
              "      <th>1994</th>\n",
              "      <th>1995</th>\n",
              "      <th>1996</th>\n",
              "      <th>1997</th>\n",
              "      <th>1998</th>\n",
              "      <th>1999</th>\n",
              "      <th>2000</th>\n",
              "      <th>2001</th>\n",
              "      <th>2002</th>\n",
              "      <th>2003</th>\n",
              "      <th>2004</th>\n",
              "      <th>2005</th>\n",
              "      <th>2006</th>\n",
              "      <th>2007</th>\n",
              "      <th>2008</th>\n",
              "      <th>2009</th>\n",
              "      <th>2010</th>\n",
              "      <th>2011</th>\n",
              "      <th>2012</th>\n",
              "      <th>2013</th>\n",
              "      <th>2014</th>\n",
              "      <th>2015</th>\n",
              "      <th>2016</th>\n",
              "      <th>2017</th>\n",
              "      <th>2018</th>\n",
              "    </tr>\n",
              "    <tr>\n",
              "      <th>fuel_type_code_pudl</th>\n",
              "      <th></th>\n",
              "      <th></th>\n",
              "      <th></th>\n",
              "      <th></th>\n",
              "      <th></th>\n",
              "      <th></th>\n",
              "      <th></th>\n",
              "      <th></th>\n",
              "      <th></th>\n",
              "      <th></th>\n",
              "      <th></th>\n",
              "      <th></th>\n",
              "      <th></th>\n",
              "      <th></th>\n",
              "      <th></th>\n",
              "      <th></th>\n",
              "      <th></th>\n",
              "      <th></th>\n",
              "      <th></th>\n",
              "      <th></th>\n",
              "      <th></th>\n",
              "      <th></th>\n",
              "      <th></th>\n",
              "      <th></th>\n",
              "      <th></th>\n",
              "    </tr>\n",
              "  </thead>\n",
              "  <tbody>\n",
              "    <tr>\n",
              "      <th>coal</th>\n",
              "      <td>14984.572</td>\n",
              "      <td>14571.785</td>\n",
              "      <td>12694.803</td>\n",
              "      <td>43742.178</td>\n",
              "      <td>11902.597</td>\n",
              "      <td>16303.468</td>\n",
              "      <td>100428.831</td>\n",
              "      <td>15109.012</td>\n",
              "      <td>9171.164</td>\n",
              "      <td>30954.110</td>\n",
              "      <td>9632.063</td>\n",
              "      <td>11107.182</td>\n",
              "      <td>12402.684</td>\n",
              "      <td>12965.171</td>\n",
              "      <td>14331.348</td>\n",
              "      <td>45554.858</td>\n",
              "      <td>88627.745</td>\n",
              "      <td>17001.015</td>\n",
              "      <td>17546.097</td>\n",
              "      <td>17629.860</td>\n",
              "      <td>15412.197</td>\n",
              "      <td>13338.235</td>\n",
              "      <td>11100.925</td>\n",
              "      <td>10254.284</td>\n",
              "      <td>9488.197</td>\n",
              "    </tr>\n",
              "    <tr>\n",
              "      <th>gas</th>\n",
              "      <td>10792.496</td>\n",
              "      <td>9087.905</td>\n",
              "      <td>1467.390</td>\n",
              "      <td>1518.471</td>\n",
              "      <td>7475.596</td>\n",
              "      <td>16767.895</td>\n",
              "      <td>10024.878</td>\n",
              "      <td>10360.348</td>\n",
              "      <td>3584.279</td>\n",
              "      <td>7170.143</td>\n",
              "      <td>5019.023</td>\n",
              "      <td>3833.652</td>\n",
              "      <td>3598.417</td>\n",
              "      <td>3867.366</td>\n",
              "      <td>16087.669</td>\n",
              "      <td>11193.089</td>\n",
              "      <td>4240.494</td>\n",
              "      <td>3264.968</td>\n",
              "      <td>3420.876</td>\n",
              "      <td>2982.281</td>\n",
              "      <td>4169.285</td>\n",
              "      <td>6224.304</td>\n",
              "      <td>1994.266</td>\n",
              "      <td>4424.244</td>\n",
              "      <td>4322.494</td>\n",
              "    </tr>\n",
              "    <tr>\n",
              "      <th>nuclear</th>\n",
              "      <td>227983.354</td>\n",
              "      <td>384152.639</td>\n",
              "      <td>66657.887</td>\n",
              "      <td>112593.911</td>\n",
              "      <td>117788.269</td>\n",
              "      <td>62915.808</td>\n",
              "      <td>112375.382</td>\n",
              "      <td>59292.078</td>\n",
              "      <td>59958.884</td>\n",
              "      <td>59591.536</td>\n",
              "      <td>61870.002</td>\n",
              "      <td>94192.368</td>\n",
              "      <td>141240.473</td>\n",
              "      <td>154945.333</td>\n",
              "      <td>226552.820</td>\n",
              "      <td>172823.881</td>\n",
              "      <td>202133.032</td>\n",
              "      <td>229824.926</td>\n",
              "      <td>240648.791</td>\n",
              "      <td>243192.226</td>\n",
              "      <td>229158.129</td>\n",
              "      <td>208830.486</td>\n",
              "      <td>213837.559</td>\n",
              "      <td>197491.493</td>\n",
              "      <td>173267.161</td>\n",
              "    </tr>\n",
              "    <tr>\n",
              "      <th>oil</th>\n",
              "      <td>9362.194</td>\n",
              "      <td>17858.281</td>\n",
              "      <td>5357.028</td>\n",
              "      <td>5387.536</td>\n",
              "      <td>2608.657</td>\n",
              "      <td>29654.510</td>\n",
              "      <td>104055.470</td>\n",
              "      <td>95315.421</td>\n",
              "      <td>48956.627</td>\n",
              "      <td>51349.250</td>\n",
              "      <td>107669.303</td>\n",
              "      <td>26401.284</td>\n",
              "      <td>30285.707</td>\n",
              "      <td>83766.316</td>\n",
              "      <td>56654.223</td>\n",
              "      <td>33068.327</td>\n",
              "      <td>35503.392</td>\n",
              "      <td>123477.065</td>\n",
              "      <td>59263.866</td>\n",
              "      <td>42336.964</td>\n",
              "      <td>268670.603</td>\n",
              "      <td>31038.094</td>\n",
              "      <td>28012.376</td>\n",
              "      <td>31935.723</td>\n",
              "      <td>33836.602</td>\n",
              "    </tr>\n",
              "    <tr>\n",
              "      <th>other</th>\n",
              "      <td>116.737</td>\n",
              "      <td>183.577</td>\n",
              "      <td>160.075</td>\n",
              "      <td>153.923</td>\n",
              "      <td>225.428</td>\n",
              "      <td>271.579</td>\n",
              "      <td>100.014</td>\n",
              "      <td>71.283</td>\n",
              "      <td>-4.257</td>\n",
              "      <td>-51.286</td>\n",
              "      <td>174.796</td>\n",
              "      <td>76.196</td>\n",
              "      <td>190.904</td>\n",
              "      <td>143.112</td>\n",
              "      <td>211.940</td>\n",
              "      <td>204.527</td>\n",
              "      <td>321.647</td>\n",
              "      <td>89.717</td>\n",
              "      <td>224.123</td>\n",
              "      <td>182.494</td>\n",
              "      <td>0.661</td>\n",
              "      <td>0.595</td>\n",
              "      <td>0.609</td>\n",
              "      <td>NaN</td>\n",
              "      <td>NaN</td>\n",
              "    </tr>\n",
              "    <tr>\n",
              "      <th>waste</th>\n",
              "      <td>52.762</td>\n",
              "      <td>-192.699</td>\n",
              "      <td>88.092</td>\n",
              "      <td>137.433</td>\n",
              "      <td>238.109</td>\n",
              "      <td>143.025</td>\n",
              "      <td>-489.141</td>\n",
              "      <td>217.499</td>\n",
              "      <td>254.438</td>\n",
              "      <td>161.973</td>\n",
              "      <td>272.512</td>\n",
              "      <td>313.457</td>\n",
              "      <td>423.847</td>\n",
              "      <td>427.014</td>\n",
              "      <td>474.022</td>\n",
              "      <td>739.884</td>\n",
              "      <td>755.157</td>\n",
              "      <td>517.912</td>\n",
              "      <td>589.791</td>\n",
              "      <td>609.411</td>\n",
              "      <td>591.594</td>\n",
              "      <td>629.270</td>\n",
              "      <td>539.079</td>\n",
              "      <td>452.079</td>\n",
              "      <td>660.972</td>\n",
              "    </tr>\n",
              "  </tbody>\n",
              "</table>\n",
              "</div>"
            ],
            "text/plain": [
              "report_year                1994        1995  ...        2017        2018\n",
              "fuel_type_code_pudl                          ...                        \n",
              "coal                  14984.572   14571.785  ...   10254.284    9488.197\n",
              "gas                   10792.496    9087.905  ...    4424.244    4322.494\n",
              "nuclear              227983.354  384152.639  ...  197491.493  173267.161\n",
              "oil                    9362.194   17858.281  ...   31935.723   33836.602\n",
              "other                   116.737     183.577  ...         NaN         NaN\n",
              "waste                    52.762    -192.699  ...     452.079     660.972\n",
              "\n",
              "[6 rows x 25 columns]"
            ]
          },
          "metadata": {
            "tags": []
          },
          "execution_count": 31
        }
      ]
    },
    {
      "cell_type": "code",
      "metadata": {
        "id": "-ENXmHkYx8D3",
        "colab_type": "code",
        "colab": {
          "base_uri": "https://localhost:8080/",
          "height": 34
        },
        "outputId": "577f3c74-b815-45cb-d67d-4605a8f765d2"
      },
      "source": [
        "percentage_burned = (((11902.597 - 14984.572)/14984.572) * 100)\n",
        "percentage_burned\n",
        "\n",
        "\n"
      ],
      "execution_count": 37,
      "outputs": [
        {
          "output_type": "execute_result",
          "data": {
            "text/plain": [
              "-20.567654518260518"
            ]
          },
          "metadata": {
            "tags": []
          },
          "execution_count": 37
        }
      ]
    },
    {
      "cell_type": "markdown",
      "metadata": {
        "id": "PPP0Nw9Mgdfh",
        "colab_type": "text"
      },
      "source": [
        "# Get the Highest Value for cost_per_unit_delivered"
      ]
    },
    {
      "cell_type": "code",
      "metadata": {
        "id": "z0IlH72ag2ky",
        "colab_type": "code",
        "colab": {
          "base_uri": "https://localhost:8080/",
          "height": 51
        },
        "outputId": "cdd00ff3-f558-4fd2-caa4-b0003f66ec50"
      },
      "source": [
        "cost_per_unit_delivered = pd.pivot_table(electric_utility_data, index=\"report_year\", values=\"fuel_cost_per_unit_delivered\", aggfunc='sum')\n",
        "\n",
        "max_value = cost_per_unit_delivered.max()\n",
        "\n",
        "max_value\n"
      ],
      "execution_count": 28,
      "outputs": [
        {
          "output_type": "execute_result",
          "data": {
            "text/plain": [
              "fuel_cost_per_unit_delivered    12187375.78\n",
              "dtype: float64"
            ]
          },
          "metadata": {
            "tags": []
          },
          "execution_count": 28
        }
      ]
    }
  ]
}