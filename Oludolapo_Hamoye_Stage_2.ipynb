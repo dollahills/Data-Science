{
  "nbformat": 4,
  "nbformat_minor": 0,
  "metadata": {
    "colab": {
      "name": "Oludolapo_Hamoye_Stage_2.ipynb",
      "provenance": [],
      "collapsed_sections": [],
      "authorship_tag": "ABX9TyPuROdowPp3S0uGtI4uUC3V",
      "include_colab_link": true
    },
    "kernelspec": {
      "name": "python3",
      "display_name": "Python 3"
    }
  },
  "cells": [
    {
      "cell_type": "markdown",
      "metadata": {
        "id": "view-in-github",
        "colab_type": "text"
      },
      "source": [
        "<a href=\"https://colab.research.google.com/github/dollahills/Data-Science/blob/master/Oludolapo_Hamoye_Stage_2.ipynb\" target=\"_parent\"><img src=\"https://colab.research.google.com/assets/colab-badge.svg\" alt=\"Open In Colab\"/></a>"
      ]
    },
    {
      "cell_type": "code",
      "metadata": {
        "id": "wODIezFupcA4",
        "colab_type": "code",
        "colab": {
          "base_uri": "https://localhost:8080/",
          "height": 58
        },
        "outputId": "ebd3e926-99e5-4c45-dfc4-52f644791436"
      },
      "source": [
        "%%html\n",
        "<!DOCTYPE html>\n",
        "<html>\n",
        "  <head>\n",
        "    <title>Title of the document</title>\n",
        "    <style>\n",
        "      marquee{\n",
        "      font-size: 30px;\n",
        "      font-weight: 800;\n",
        "      color: red;\n",
        "      font-family: sans-serif;\n",
        "      }\n",
        "    </style>\n",
        "  </head>\n",
        "  <body>\n",
        "    <marquee>HAMOYE DATA SCIENCE INTERNSHIP 2020</marquee>\n",
        "  </body>\n",
        "</html>"
      ],
      "execution_count": null,
      "outputs": [
        {
          "output_type": "display_data",
          "data": {
            "text/html": [
              "<!DOCTYPE html>\n",
              "<html>\n",
              "  <head>\n",
              "    <title>Title of the document</title>\n",
              "    <style>\n",
              "      marquee{\n",
              "      font-size: 30px;\n",
              "      font-weight: 800;\n",
              "      color: red;\n",
              "      font-family: sans-serif;\n",
              "      }\n",
              "    </style>\n",
              "  </head>\n",
              "  <body>\n",
              "    <marquee>HAMOYE DATA SCIENCE INTERNSHIP 2020</marquee>\n",
              "  </body>\n",
              "</html>"
            ],
            "text/plain": [
              "<IPython.core.display.HTML object>"
            ]
          },
          "metadata": {
            "tags": []
          }
        }
      ]
    },
    {
      "cell_type": "code",
      "metadata": {
        "id": "KBVsBCa1qF98",
        "colab_type": "code",
        "colab": {
          "base_uri": "https://localhost:8080/",
          "height": 269
        },
        "outputId": "8dff453f-0003-44bf-8420-67241ee04f61"
      },
      "source": [
        "%%html\n",
        "\n",
        "<marquee>Oludolapo Ibrahim Olanrewaju ()</marquee>\n",
        "\n",
        "<marquee direction=\"down\">Introduction to Python</marquee>\n",
        "\n",
        "<marquee direction=\"down\" width=\"500\" height=\"200\" behavior=\"alternate\" style=\"border:solid\">\n",
        "  <marquee behavior=\"alternate\">\n",
        "    Oludolapo Ibrahim Olanrewaju\n",
        "  </marquee>\n",
        "</marquee>"
      ],
      "execution_count": null,
      "outputs": [
        {
          "output_type": "display_data",
          "data": {
            "text/html": [
              "\n",
              "<marquee>Oludolapo Ibrahim Olanrewaju</marquee>\n",
              "\n",
              "<marquee direction=\"down\">Introduction to Python</marquee>\n",
              "\n",
              "<marquee direction=\"down\" width=\"500\" height=\"200\" behavior=\"alternate\" style=\"border:solid\">\n",
              "  <marquee behavior=\"alternate\">\n",
              "    Oludolapo Ibrahim Olanrewaju\n",
              "  </marquee>\n",
              "</marquee>"
            ],
            "text/plain": [
              "<IPython.core.display.HTML object>"
            ]
          },
          "metadata": {
            "tags": []
          }
        }
      ]
    },
    {
      "cell_type": "markdown",
      "metadata": {
        "id": "K2mQvi1mKGwz",
        "colab_type": "text"
      },
      "source": [
        "# QUESTION ONE\n",
        "\n",
        "\n",
        "Gaussian prior"
      ]
    },
    {
      "cell_type": "markdown",
      "metadata": {
        "id": "C6vHVuw4KX9E",
        "colab_type": "text"
      },
      "source": [
        "# QUESTION TWO\n",
        "\n",
        "\n",
        "Cross validation is helps prevent overfitting"
      ]
    },
    {
      "cell_type": "markdown",
      "metadata": {
        "id": "DDzrEkcOLc3J",
        "colab_type": "text"
      },
      "source": [
        "# QUESTION THREE\n",
        "\n",
        "\n",
        "Ridge regression is more sensitive to outliers than OLS"
      ]
    },
    {
      "cell_type": "markdown",
      "metadata": {
        "id": "TVdg_Vt9LsZd",
        "colab_type": "text"
      },
      "source": [
        "# QUESTION FOUR\n",
        "\n",
        "\n",
        "Variance\n",
        "\n",
        "High variance results in overfitting to your training set. You'll see strong  performance at first, until you apply your model to your test set, where it will fail to generalize and likely struggle."
      ]
    },
    {
      "cell_type": "markdown",
      "metadata": {
        "id": "3z8KObEHMFG0",
        "colab_type": "text"
      },
      "source": [
        "# QUESTION FIVE\n",
        "\n",
        "\n",
        "Least Square Error"
      ]
    },
    {
      "cell_type": "markdown",
      "metadata": {
        "id": "d7rPpMBAM_wv",
        "colab_type": "text"
      },
      "source": [
        "# QUESTION SIX\n",
        "\n",
        "\n",
        "Linear regression is sensitive to outliers"
      ]
    },
    {
      "cell_type": "markdown",
      "metadata": {
        "id": "LHGGcxaIOFcR",
        "colab_type": "text"
      },
      "source": [
        "# QUESTION SEVEN\n",
        "\n",
        "\n",
        "Two (2) - B0 and B1"
      ]
    },
    {
      "cell_type": "markdown",
      "metadata": {
        "id": "2VB45hytONlv",
        "colab_type": "text"
      },
      "source": [
        "# QUESTION EIGHT\n",
        "\n",
        "\n",
        "Decreases model bias"
      ]
    },
    {
      "cell_type": "markdown",
      "metadata": {
        "id": "d3N21x3KOWXC",
        "colab_type": "text"
      },
      "source": [
        "# QUESTION NINE\n",
        "\n",
        "\n",
        "The model is performing with 75% accuracy"
      ]
    },
    {
      "cell_type": "markdown",
      "metadata": {
        "id": "u27lJcRIOmI6",
        "colab_type": "text"
      },
      "source": [
        "# QUESTION TEN\n",
        "\n",
        "\n",
        "Weights are regularised with the L1 norm"
      ]
    },
    {
      "cell_type": "markdown",
      "metadata": {
        "id": "C3pDKw1wPWuM",
        "colab_type": "text"
      },
      "source": [
        "# QUESTION ELEVEN\n",
        "\n",
        "\n",
        "Heteroscedaity"
      ]
    },
    {
      "cell_type": "markdown",
      "metadata": {
        "id": "Mtf8elaWbynQ",
        "colab_type": "text"
      },
      "source": [
        "\n",
        "\n",
        "```\n",
        " *******************Import Python Libraries********************\n",
        "```\n",
        "\n"
      ]
    },
    {
      "cell_type": "code",
      "metadata": {
        "id": "uZWrC-YVb-OA",
        "colab_type": "code",
        "colab": {
          "base_uri": "https://localhost:8080/",
          "height": 51
        },
        "outputId": "bf681f34-0de6-4c26-d999-83ab4e04cf64"
      },
      "source": [
        "import pandas as pd\n",
        "import matplotlib.pyplot as plt\n",
        "import numpy as np\n",
        "import seaborn as sns"
      ],
      "execution_count": 2,
      "outputs": [
        {
          "output_type": "stream",
          "text": [
            "/usr/local/lib/python3.6/dist-packages/statsmodels/tools/_testing.py:19: FutureWarning: pandas.util.testing is deprecated. Use the functions in the public API at pandas.testing instead.\n",
            "  import pandas.util.testing as tm\n"
          ],
          "name": "stderr"
        }
      ]
    },
    {
      "cell_type": "markdown",
      "metadata": {
        "id": "ec2529QmcfzD",
        "colab_type": "text"
      },
      "source": [
        "```\n",
        " ****************Get Data from Source************************\n",
        "```"
      ]
    },
    {
      "cell_type": "code",
      "metadata": {
        "id": "g6ebkrK8vq2V",
        "colab_type": "code",
        "colab": {
          "base_uri": "https://localhost:8080/",
          "height": 408
        },
        "outputId": "f90ea250-d13f-4b4d-82f3-fed9dab7ae69"
      },
      "source": [
        "url = 'https://archive.ics.uci.edu/ml/machine-learning-databases/00374/energydata_complete.csv'\n",
        "Electricity_df = pd.read_csv(url)\n",
        "print(Electricity_df.head(20))\n"
      ],
      "execution_count": 9,
      "outputs": [
        {
          "output_type": "stream",
          "text": [
            "                   date  Appliances  lights  ...  Tdewpoint        rv1        rv2\n",
            "0   2016-01-11 17:00:00          60      30  ...   5.300000  13.275433  13.275433\n",
            "1   2016-01-11 17:10:00          60      30  ...   5.200000  18.606195  18.606195\n",
            "2   2016-01-11 17:20:00          50      30  ...   5.100000  28.642668  28.642668\n",
            "3   2016-01-11 17:30:00          50      40  ...   5.000000  45.410389  45.410389\n",
            "4   2016-01-11 17:40:00          60      40  ...   4.900000  10.084097  10.084097\n",
            "5   2016-01-11 17:50:00          50      40  ...   4.800000  44.919484  44.919484\n",
            "6   2016-01-11 18:00:00          60      50  ...   4.700000  47.233763  47.233763\n",
            "7   2016-01-11 18:10:00          60      50  ...   4.683333  33.039890  33.039890\n",
            "8   2016-01-11 18:20:00          60      40  ...   4.666667  31.455702  31.455702\n",
            "9   2016-01-11 18:30:00          70      40  ...   4.650000   3.089314   3.089314\n",
            "10  2016-01-11 18:40:00         230      70  ...   4.633333  10.298729  10.298729\n",
            "11  2016-01-11 18:50:00         580      60  ...   4.616667   8.827838   8.827838\n",
            "12  2016-01-11 19:00:00         430      50  ...   4.600000  34.351142  34.351142\n",
            "13  2016-01-11 19:10:00         250      40  ...   4.516667  19.205186  19.205186\n",
            "14  2016-01-11 19:20:00         100      10  ...   4.433333  38.492071  38.492071\n",
            "15  2016-01-11 19:30:00         100      10  ...   4.350000  24.884962  24.884962\n",
            "16  2016-01-11 19:40:00          90      10  ...   4.266667  35.880925  35.880925\n",
            "17  2016-01-11 19:50:00          70      30  ...   4.183333  49.595305  49.595305\n",
            "18  2016-01-11 20:00:00          80      30  ...   4.100000  19.001759  19.001759\n",
            "19  2016-01-11 20:10:00         140      40  ...   4.066667  38.872261  38.872261\n",
            "\n",
            "[20 rows x 29 columns]\n"
          ],
          "name": "stdout"
        }
      ]
    },
    {
      "cell_type": "markdown",
      "metadata": {
        "id": "KpcwacnlVDGv",
        "colab_type": "text"
      },
      "source": [
        "```\n",
        "***********Remove Date and Lights Column****************\n",
        "```\n"
      ]
    },
    {
      "cell_type": "code",
      "metadata": {
        "id": "rljIkXahwTCc",
        "colab_type": "code",
        "colab": {
          "base_uri": "https://localhost:8080/",
          "height": 408
        },
        "outputId": "56ffcca4-0016-4280-eceb-0cba666f5e33"
      },
      "source": [
        "\n",
        "Electricity_df.drop(['date', 'lights'], axis=1, inplace=True)\n",
        "print(Electricity_df.head(20))"
      ],
      "execution_count": 10,
      "outputs": [
        {
          "output_type": "stream",
          "text": [
            "    Appliances         T1       RH_1  ...  Tdewpoint        rv1        rv2\n",
            "0           60  19.890000  47.596667  ...   5.300000  13.275433  13.275433\n",
            "1           60  19.890000  46.693333  ...   5.200000  18.606195  18.606195\n",
            "2           50  19.890000  46.300000  ...   5.100000  28.642668  28.642668\n",
            "3           50  19.890000  46.066667  ...   5.000000  45.410389  45.410389\n",
            "4           60  19.890000  46.333333  ...   4.900000  10.084097  10.084097\n",
            "5           50  19.890000  46.026667  ...   4.800000  44.919484  44.919484\n",
            "6           60  19.890000  45.766667  ...   4.700000  47.233763  47.233763\n",
            "7           60  19.856667  45.560000  ...   4.683333  33.039890  33.039890\n",
            "8           60  19.790000  45.597500  ...   4.666667  31.455702  31.455702\n",
            "9           70  19.856667  46.090000  ...   4.650000   3.089314   3.089314\n",
            "10         230  19.926667  45.863333  ...   4.633333  10.298729  10.298729\n",
            "11         580  20.066667  46.396667  ...   4.616667   8.827838   8.827838\n",
            "12         430  20.133333  48.000000  ...   4.600000  34.351142  34.351142\n",
            "13         250  20.260000  52.726667  ...   4.516667  19.205186  19.205186\n",
            "14         100  20.426667  55.893333  ...   4.433333  38.492071  38.492071\n",
            "15         100  20.566667  53.893333  ...   4.350000  24.884962  24.884962\n",
            "16          90  20.730000  52.660000  ...   4.266667  35.880925  35.880925\n",
            "17          70  20.856667  53.660000  ...   4.183333  49.595305  49.595305\n",
            "18          80  20.890000  51.193333  ...   4.100000  19.001759  19.001759\n",
            "19         140  20.890000  49.800000  ...   4.066667  38.872261  38.872261\n",
            "\n",
            "[20 rows x 27 columns]\n"
          ],
          "name": "stdout"
        }
      ]
    },
    {
      "cell_type": "markdown",
      "metadata": {
        "id": "MJ8qT815VVMr",
        "colab_type": "text"
      },
      "source": [
        "```\n",
        "***********Check for missing / null values****************\n",
        "```\n"
      ]
    },
    {
      "cell_type": "code",
      "metadata": {
        "id": "SvRl4_oEHUMx",
        "colab_type": "code",
        "colab": {
          "base_uri": "https://localhost:8080/",
          "height": 34
        },
        "outputId": "8f040038-feaa-42aa-9e55-1f0b392346c3"
      },
      "source": [
        "\n",
        "print('total no of null values = ', Electricity_df.isnull().values.sum())"
      ],
      "execution_count": 11,
      "outputs": [
        {
          "output_type": "stream",
          "text": [
            "total no of null values =  0\n"
          ],
          "name": "stdout"
        }
      ]
    },
    {
      "cell_type": "markdown",
      "metadata": {
        "id": "nLKqHApAmR0s",
        "colab_type": "text"
      },
      "source": [
        "```\n",
        "***********Dataset Normalization using min-max scaler****************\n",
        "```\n"
      ]
    },
    {
      "cell_type": "code",
      "metadata": {
        "id": "OnSR9YL4HdMS",
        "colab_type": "code",
        "colab": {
          "base_uri": "https://localhost:8080/",
          "height": 408
        },
        "outputId": "c8e9b1a3-56ef-4b74-dab7-9575e496b089"
      },
      "source": [
        "\n",
        "from sklearn.preprocessing import MinMaxScaler\n",
        "Min_Max_Scaler = MinMaxScaler()\n",
        "norm_df = pd.DataFrame(Min_Max_Scaler.fit_transform(Electricity_df), columns=Electricity_df.columns)\n",
        "print(norm_df.head(20))"
      ],
      "execution_count": 14,
      "outputs": [
        {
          "output_type": "stream",
          "text": [
            "    Appliances        T1      RH_1  ...  Tdewpoint       rv1       rv2\n",
            "0     0.046729  0.327350  0.566187  ...   0.538462  0.265449  0.265449\n",
            "1     0.046729  0.327350  0.541326  ...   0.533937  0.372083  0.372083\n",
            "2     0.037383  0.327350  0.530502  ...   0.529412  0.572848  0.572848\n",
            "3     0.037383  0.327350  0.524080  ...   0.524887  0.908261  0.908261\n",
            "4     0.046729  0.327350  0.531419  ...   0.520362  0.201611  0.201611\n",
            "5     0.037383  0.327350  0.522980  ...   0.515837  0.898441  0.898441\n",
            "6     0.046729  0.327350  0.515824  ...   0.511312  0.944735  0.944735\n",
            "7     0.046729  0.323830  0.510137  ...   0.510558  0.660808  0.660808\n",
            "8     0.046729  0.316790  0.511169  ...   0.509804  0.629118  0.629118\n",
            "9     0.056075  0.323830  0.524723  ...   0.509050  0.061691  0.061691\n",
            "10    0.205607  0.331221  0.518485  ...   0.508296  0.205904  0.205904\n",
            "11    0.532710  0.346005  0.533162  ...   0.507541  0.176481  0.176481\n",
            "12    0.392523  0.353045  0.577286  ...   0.506787  0.687037  0.687037\n",
            "13    0.224299  0.366420  0.707366  ...   0.503017  0.384065  0.384065\n",
            "14    0.084112  0.384020  0.794514  ...   0.499246  0.769870  0.769870\n",
            "15    0.084112  0.398803  0.739473  ...   0.495475  0.497680  0.497680\n",
            "16    0.074766  0.416051  0.705532  ...   0.491704  0.717638  0.717638\n",
            "17    0.056075  0.429426  0.733052  ...   0.487934  0.991974  0.991974\n",
            "18    0.065421  0.432946  0.665168  ...   0.484163  0.379996  0.379996\n",
            "19    0.121495  0.432946  0.626823  ...   0.482655  0.777475  0.777475\n",
            "\n",
            "[20 rows x 27 columns]\n"
          ],
          "name": "stdout"
        }
      ]
    },
    {
      "cell_type": "markdown",
      "metadata": {
        "id": "hnlyHQ3VUQOf",
        "colab_type": "text"
      },
      "source": [
        "```\n",
        "Linear Model\n",
        "```"
      ]
    },
    {
      "cell_type": "code",
      "metadata": {
        "id": "vOteFbFJHeQi",
        "colab_type": "code",
        "colab": {}
      },
      "source": [
        "\n",
        "X_lin = norm_df['T2'].values #Obtain feature and assign column (X)\n",
        "\n",
        "y_lin = norm_df['T6'].values #Obtain label and assign column (Y)\n",
        "\n",
        "# Split data\n",
        "from sklearn.model_selection import train_test_split\n",
        "X_lintrain, X_lintest, y_lintrain, y_lintest = train_test_split(X_lin, y_lin, test_size=0.3, random_state=42)\n",
        "X_lintrain = X_lintrain.reshape(-1, 1)\n",
        "y_lintrain = y_lintrain.reshape(-1, 1)\n",
        "\n",
        "# Model creation\n",
        "from sklearn.linear_model import LinearRegression\n",
        "lin_reg = LinearRegression()\n",
        "\n",
        "# Fit model to train data\n",
        "lin_reg.fit(X_lintrain, y_lintrain)\n",
        "\n",
        "# Predict test values\n",
        "X_lintest = X_lintest.reshape(-1, 1)\n",
        "y_linpred = lin_reg.predict(X_lintest)"
      ],
      "execution_count": 43,
      "outputs": []
    },
    {
      "cell_type": "markdown",
      "metadata": {
        "id": "JDZRIV4-pXj2",
        "colab_type": "text"
      },
      "source": [
        "# QUESTION TWELVE"
      ]
    },
    {
      "cell_type": "code",
      "metadata": {
        "id": "M4stQIsEHiNU",
        "colab_type": "code",
        "colab": {
          "base_uri": "https://localhost:8080/",
          "height": 34
        },
        "outputId": "514162d3-7f1c-4a66-c3ef-d6ac36c40777"
      },
      "source": [
        "# R-SQUARED for the linear model\n",
        "from sklearn.metrics import r2_score\n",
        "r2_score = r2_score(y_lintest, y_linpred)\n",
        "round(r2_score, 2) # rounds the r-square value to 2 dp"
      ],
      "execution_count": 44,
      "outputs": [
        {
          "output_type": "execute_result",
          "data": {
            "text/plain": [
              "0.64"
            ]
          },
          "metadata": {
            "tags": []
          },
          "execution_count": 44
        }
      ]
    },
    {
      "cell_type": "code",
      "metadata": {
        "id": "H3R6IsmDHlJZ",
        "colab_type": "code",
        "colab": {}
      },
      "source": [
        "\n",
        "\n",
        "X = norm_df.drop('Appliances', axis=1).values #features (X)\n",
        "\n",
        "y = norm_df['Appliances'].values #label/target variable (Y)\n",
        "\n",
        "X_train, X_test, y_train, y_test = train_test_split(X, y, test_size=0.3, random_state=42)\n",
        "\n",
        "# Model creation\n",
        "reg = LinearRegression()\n",
        "\n",
        "# Model fitting to training data \n",
        "reg.fit(X_train, y_train)\n",
        "\n",
        "# Test values prediction\n",
        "y_pred = reg.predict(X_test)"
      ],
      "execution_count": 40,
      "outputs": []
    },
    {
      "cell_type": "markdown",
      "metadata": {
        "id": "n3xnYS9LUuhx",
        "colab_type": "text"
      },
      "source": [
        "# QUESTION THIRTEEN"
      ]
    },
    {
      "cell_type": "code",
      "metadata": {
        "id": "8Bge9tmkHoaf",
        "colab_type": "code",
        "colab": {
          "base_uri": "https://localhost:8080/",
          "height": 34
        },
        "outputId": "d9d38af4-b1cb-4b0e-d6e8-75fba07a6b30"
      },
      "source": [
        "#Mean Absolute Error (MAE) \n",
        "from sklearn.metrics import mean_absolute_error\n",
        "mae = mean_absolute_error(y_test, y_pred)\n",
        "round(mae, 2) # rounds the mae value to 2 dp"
      ],
      "execution_count": 41,
      "outputs": [
        {
          "output_type": "execute_result",
          "data": {
            "text/plain": [
              "0.05"
            ]
          },
          "metadata": {
            "tags": []
          },
          "execution_count": 41
        }
      ]
    },
    {
      "cell_type": "markdown",
      "metadata": {
        "id": "gdTCn3VnU8ct",
        "colab_type": "text"
      },
      "source": [
        "# QUESTION FOURTEEN"
      ]
    },
    {
      "cell_type": "code",
      "metadata": {
        "id": "LiJmng4-HrKH",
        "colab_type": "code",
        "colab": {
          "base_uri": "https://localhost:8080/",
          "height": 34
        },
        "outputId": "f1d35e35-9990-40c8-dde4-9cd4e19fb027"
      },
      "source": [
        "# Residual sum of squares (RSS)\n",
        "rss = np.sum(np.square(y_test - y_pred))\n",
        "round(rss, 2) # rounds the rss value to 2 dp"
      ],
      "execution_count": 42,
      "outputs": [
        {
          "output_type": "execute_result",
          "data": {
            "text/plain": [
              "45.35"
            ]
          },
          "metadata": {
            "tags": []
          },
          "execution_count": 42
        }
      ]
    },
    {
      "cell_type": "markdown",
      "metadata": {
        "id": "QTaFuJYAVBmR",
        "colab_type": "text"
      },
      "source": [
        "# QUESTION FIFTEEN"
      ]
    },
    {
      "cell_type": "code",
      "metadata": {
        "id": "h6l54ywCHuF3",
        "colab_type": "code",
        "colab": {
          "base_uri": "https://localhost:8080/",
          "height": 34
        },
        "outputId": "a4db3cce-836c-44b5-bdb5-4f2910d89cb4"
      },
      "source": [
        "# Root Mean Squared Error(RMSE) \n",
        "from sklearn.metrics import  mean_squared_error\n",
        "rmse = np.sqrt(mean_squared_error(y_test, y_pred))\n",
        "round(rmse, 3) # rounds the rmse value to 3 dp"
      ],
      "execution_count": 21,
      "outputs": [
        {
          "output_type": "execute_result",
          "data": {
            "text/plain": [
              "0.088"
            ]
          },
          "metadata": {
            "tags": []
          },
          "execution_count": 21
        }
      ]
    },
    {
      "cell_type": "markdown",
      "metadata": {
        "id": "TnCO58VQVPxt",
        "colab_type": "text"
      },
      "source": [
        "# QUESTION SIXTEEN"
      ]
    },
    {
      "cell_type": "code",
      "metadata": {
        "id": "LX2vm-A4HxrB",
        "colab_type": "code",
        "colab": {
          "base_uri": "https://localhost:8080/",
          "height": 34
        },
        "outputId": "3b211736-bc79-4ff0-8c95-c3ab00be0fd5"
      },
      "source": [
        "# R2 (COEFFICIENT OF DETERMINATION)\n",
        "from sklearn.metrics import r2_score\n",
        "r2_score = r2_score(y_test, y_pred)\n",
        "round(r2_score, 2) # rounds the r-square value to 2 dp"
      ],
      "execution_count": 22,
      "outputs": [
        {
          "output_type": "execute_result",
          "data": {
            "text/plain": [
              "0.15"
            ]
          },
          "metadata": {
            "tags": []
          },
          "execution_count": 22
        }
      ]
    },
    {
      "cell_type": "markdown",
      "metadata": {
        "id": "JpHVJAfdVXf-",
        "colab_type": "text"
      },
      "source": [
        "# QUESTION SEVENTEEN"
      ]
    },
    {
      "cell_type": "code",
      "metadata": {
        "id": "67kuxiq_VXqb",
        "colab_type": "code",
        "colab": {
          "base_uri": "https://localhost:8080/",
          "height": 855
        },
        "outputId": "5074294c-dc92-42a1-e0b5-93987ae5a06b"
      },
      "source": [
        "pd.DataFrame(zip(Electricity_df.columns,reg.coef_),columns=['Features','Coefficients']).sort_values(by='Coefficients')"
      ],
      "execution_count": 67,
      "outputs": [
        {
          "output_type": "execute_result",
          "data": {
            "text/html": [
              "<div>\n",
              "<style scoped>\n",
              "    .dataframe tbody tr th:only-of-type {\n",
              "        vertical-align: middle;\n",
              "    }\n",
              "\n",
              "    .dataframe tbody tr th {\n",
              "        vertical-align: top;\n",
              "    }\n",
              "\n",
              "    .dataframe thead th {\n",
              "        text-align: right;\n",
              "    }\n",
              "</style>\n",
              "<table border=\"1\" class=\"dataframe\">\n",
              "  <thead>\n",
              "    <tr style=\"text-align: right;\">\n",
              "      <th></th>\n",
              "      <th>Features</th>\n",
              "      <th>Coefficients</th>\n",
              "    </tr>\n",
              "  </thead>\n",
              "  <tbody>\n",
              "    <tr>\n",
              "      <th>3</th>\n",
              "      <td>T2</td>\n",
              "      <td>-0.456698</td>\n",
              "    </tr>\n",
              "    <tr>\n",
              "      <th>18</th>\n",
              "      <td>RH_9</td>\n",
              "      <td>-0.321860</td>\n",
              "    </tr>\n",
              "    <tr>\n",
              "      <th>2</th>\n",
              "      <td>RH_1</td>\n",
              "      <td>-0.236178</td>\n",
              "    </tr>\n",
              "    <tr>\n",
              "      <th>16</th>\n",
              "      <td>RH_8</td>\n",
              "      <td>-0.189941</td>\n",
              "    </tr>\n",
              "    <tr>\n",
              "      <th>15</th>\n",
              "      <td>T8</td>\n",
              "      <td>-0.157595</td>\n",
              "    </tr>\n",
              "    <tr>\n",
              "      <th>20</th>\n",
              "      <td>Press_mm_hg</td>\n",
              "      <td>-0.077671</td>\n",
              "    </tr>\n",
              "    <tr>\n",
              "      <th>13</th>\n",
              "      <td>T7</td>\n",
              "      <td>-0.044614</td>\n",
              "    </tr>\n",
              "    <tr>\n",
              "      <th>17</th>\n",
              "      <td>T9</td>\n",
              "      <td>-0.039800</td>\n",
              "    </tr>\n",
              "    <tr>\n",
              "      <th>8</th>\n",
              "      <td>RH_4</td>\n",
              "      <td>-0.015657</td>\n",
              "    </tr>\n",
              "    <tr>\n",
              "      <th>0</th>\n",
              "      <td>Appliances</td>\n",
              "      <td>-0.003281</td>\n",
              "    </tr>\n",
              "    <tr>\n",
              "      <th>25</th>\n",
              "      <td>rv1</td>\n",
              "      <td>0.000770</td>\n",
              "    </tr>\n",
              "    <tr>\n",
              "      <th>24</th>\n",
              "      <td>Tdewpoint</td>\n",
              "      <td>0.000770</td>\n",
              "    </tr>\n",
              "    <tr>\n",
              "      <th>19</th>\n",
              "      <td>T_out</td>\n",
              "      <td>0.006839</td>\n",
              "    </tr>\n",
              "    <tr>\n",
              "      <th>12</th>\n",
              "      <td>RH_6</td>\n",
              "      <td>0.010319</td>\n",
              "    </tr>\n",
              "    <tr>\n",
              "      <th>22</th>\n",
              "      <td>Windspeed</td>\n",
              "      <td>0.012307</td>\n",
              "    </tr>\n",
              "    <tr>\n",
              "      <th>9</th>\n",
              "      <td>T5</td>\n",
              "      <td>0.016006</td>\n",
              "    </tr>\n",
              "    <tr>\n",
              "      <th>7</th>\n",
              "      <td>T4</td>\n",
              "      <td>0.026386</td>\n",
              "    </tr>\n",
              "    <tr>\n",
              "      <th>6</th>\n",
              "      <td>RH_3</td>\n",
              "      <td>0.028981</td>\n",
              "    </tr>\n",
              "    <tr>\n",
              "      <th>21</th>\n",
              "      <td>RH_out</td>\n",
              "      <td>0.029183</td>\n",
              "    </tr>\n",
              "    <tr>\n",
              "      <th>11</th>\n",
              "      <td>T6</td>\n",
              "      <td>0.038049</td>\n",
              "    </tr>\n",
              "    <tr>\n",
              "      <th>5</th>\n",
              "      <td>T3</td>\n",
              "      <td>0.096048</td>\n",
              "    </tr>\n",
              "    <tr>\n",
              "      <th>14</th>\n",
              "      <td>RH_7</td>\n",
              "      <td>0.101995</td>\n",
              "    </tr>\n",
              "    <tr>\n",
              "      <th>23</th>\n",
              "      <td>Visibility</td>\n",
              "      <td>0.117758</td>\n",
              "    </tr>\n",
              "    <tr>\n",
              "      <th>10</th>\n",
              "      <td>RH_5</td>\n",
              "      <td>0.236425</td>\n",
              "    </tr>\n",
              "    <tr>\n",
              "      <th>4</th>\n",
              "      <td>RH_2</td>\n",
              "      <td>0.290627</td>\n",
              "    </tr>\n",
              "    <tr>\n",
              "      <th>1</th>\n",
              "      <td>T1</td>\n",
              "      <td>0.553547</td>\n",
              "    </tr>\n",
              "  </tbody>\n",
              "</table>\n",
              "</div>"
            ],
            "text/plain": [
              "       Features  Coefficients\n",
              "3            T2     -0.456698\n",
              "18         RH_9     -0.321860\n",
              "2          RH_1     -0.236178\n",
              "16         RH_8     -0.189941\n",
              "15           T8     -0.157595\n",
              "20  Press_mm_hg     -0.077671\n",
              "13           T7     -0.044614\n",
              "17           T9     -0.039800\n",
              "8          RH_4     -0.015657\n",
              "0    Appliances     -0.003281\n",
              "25          rv1      0.000770\n",
              "24    Tdewpoint      0.000770\n",
              "19        T_out      0.006839\n",
              "12         RH_6      0.010319\n",
              "22    Windspeed      0.012307\n",
              "9            T5      0.016006\n",
              "7            T4      0.026386\n",
              "6          RH_3      0.028981\n",
              "21       RH_out      0.029183\n",
              "11           T6      0.038049\n",
              "5            T3      0.096048\n",
              "14         RH_7      0.101995\n",
              "23   Visibility      0.117758\n",
              "10         RH_5      0.236425\n",
              "4          RH_2      0.290627\n",
              "1            T1      0.553547"
            ]
          },
          "metadata": {
            "tags": []
          },
          "execution_count": 67
        }
      ]
    },
    {
      "cell_type": "markdown",
      "metadata": {
        "id": "tCeD8KOTwN1a",
        "colab_type": "text"
      },
      "source": [
        "# QUESTION EIGHTEEN"
      ]
    },
    {
      "cell_type": "code",
      "metadata": {
        "id": "iD4EmWrCH0PH",
        "colab_type": "code",
        "colab": {
          "base_uri": "https://localhost:8080/",
          "height": 51
        },
        "outputId": "3b9f6daa-3e43-47f4-ff06-39daf189b3d2"
      },
      "source": [
        "# ***************************REGULARIZATION USING LASSO AND RIDGE***************************************\n",
        "\n",
        "# LASSO Regression\n",
        "from sklearn.linear_model import Lasso\n",
        "lasso_reg = Lasso(alpha=0.001)\n",
        "lasso_reg.fit(X_train, y_train)\n",
        "\n",
        "# RIDGE Regression\n",
        "from sklearn.linear_model import Ridge\n",
        "ridge_reg = Ridge(alpha=0.4)\n",
        "ridge_reg.fit(X_train, y_train)\n",
        "\n"
      ],
      "execution_count": 60,
      "outputs": [
        {
          "output_type": "execute_result",
          "data": {
            "text/plain": [
              "Ridge(alpha=0.4, copy_X=True, fit_intercept=True, max_iter=None,\n",
              "      normalize=False, random_state=None, solver='auto', tol=0.001)"
            ]
          },
          "metadata": {
            "tags": []
          },
          "execution_count": 60
        }
      ]
    },
    {
      "cell_type": "code",
      "metadata": {
        "id": "MSftIq46H7UL",
        "colab_type": "code",
        "colab": {
          "base_uri": "https://localhost:8080/",
          "height": 34
        },
        "outputId": "02dc068f-90bf-4237-ac6e-bfaf1b6d7274"
      },
      "source": [
        "# RMSE determination using RIDGE Regression\n",
        "\n",
        "y_pred_ridge = ridge_reg.predict(X_test) # Test values prediction\n",
        "rmse_ridge = np.sqrt(mean_squared_error(y_test, y_pred_ridge))\n",
        "print(round(rmse_ridge, 3))"
      ],
      "execution_count": 49,
      "outputs": [
        {
          "output_type": "stream",
          "text": [
            "0.088\n"
          ],
          "name": "stdout"
        }
      ]
    },
    {
      "cell_type": "code",
      "metadata": {
        "id": "r8hwYz-LZgBG",
        "colab_type": "code",
        "colab": {
          "base_uri": "https://localhost:8080/",
          "height": 34
        },
        "outputId": "bce3c9cf-7143-4b1f-807b-987abc62bb02"
      },
      "source": [
        "##Check if there is change in RMSE\n",
        "\n",
        "if rmse_ridge == rmse:\n",
        "  print(\"There is no change in the value of RMSE\")\n",
        "else:\n",
        "  print(\"This change in the value of RMSE\")"
      ],
      "execution_count": 86,
      "outputs": [
        {
          "output_type": "stream",
          "text": [
            "There is no change in the value of RMSE\n"
          ],
          "name": "stdout"
        }
      ]
    },
    {
      "cell_type": "markdown",
      "metadata": {
        "id": "mnil8oE0ae7g",
        "colab_type": "text"
      },
      "source": [
        "# QUESTION NINETEEN"
      ]
    },
    {
      "cell_type": "code",
      "metadata": {
        "id": "N1BRainBaMBV",
        "colab_type": "code",
        "colab": {
          "base_uri": "https://localhost:8080/",
          "height": 68
        },
        "outputId": "bb82ac65-246a-4ff3-8618-a1fdc91e8c9e"
      },
      "source": [
        "# RMSE determination using LASSO Regression\n",
        "from sklearn.linear_model import Lasso\n",
        "regressX=Lasso(alpha=0.001)\n",
        "regressX.fit(X_train,y_train)"
      ],
      "execution_count": 87,
      "outputs": [
        {
          "output_type": "execute_result",
          "data": {
            "text/plain": [
              "Lasso(alpha=0.001, copy_X=True, fit_intercept=True, max_iter=1000,\n",
              "      normalize=False, positive=False, precompute=False, random_state=None,\n",
              "      selection='cyclic', tol=0.0001, warm_start=False)"
            ]
          },
          "metadata": {
            "tags": []
          },
          "execution_count": 87
        }
      ]
    },
    {
      "cell_type": "code",
      "metadata": {
        "id": "g0srqhjdakRG",
        "colab_type": "code",
        "colab": {}
      },
      "source": [
        "lasso_predict=regressX.predict(X_test)"
      ],
      "execution_count": 88,
      "outputs": []
    },
    {
      "cell_type": "code",
      "metadata": {
        "id": "kbVv_Rb9atJJ",
        "colab_type": "code",
        "colab": {
          "base_uri": "https://localhost:8080/",
          "height": 34
        },
        "outputId": "162ee6b6-a922-47f0-e920-a544c7136e2c"
      },
      "source": [
        "len(regressX.coef_[regressX.coef_ !=0])"
      ],
      "execution_count": 89,
      "outputs": [
        {
          "output_type": "execute_result",
          "data": {
            "text/plain": [
              "4"
            ]
          },
          "metadata": {
            "tags": []
          },
          "execution_count": 89
        }
      ]
    },
    {
      "cell_type": "markdown",
      "metadata": {
        "id": "j6HX__m2azbS",
        "colab_type": "text"
      },
      "source": [
        "#QUESTION TWENTY"
      ]
    },
    {
      "cell_type": "code",
      "metadata": {
        "id": "JfhTjfh3H-DA",
        "colab_type": "code",
        "colab": {
          "base_uri": "https://localhost:8080/",
          "height": 34
        },
        "outputId": "1e2fa69b-29a2-48fe-cd11-6d3e500c1795"
      },
      "source": [
        "# RMSE determination using LASSO regression\n",
        "\n",
        "y_pred_lasso = lasso_reg.predict(X_test) # Test values prediction\n",
        "rmse_lasso = np.sqrt(mean_squared_error(y_test, y_pred_lasso))\n",
        "print(round(rmse_lasso, 3))"
      ],
      "execution_count": 50,
      "outputs": [
        {
          "output_type": "stream",
          "text": [
            "0.094\n"
          ],
          "name": "stdout"
        }
      ]
    }
  ]
}